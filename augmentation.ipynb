{
 "cells": [
  {
   "cell_type": "code",
   "execution_count": 42,
   "id": "42d790c4-e876-4310-9ab4-cec98702573c",
   "metadata": {},
   "outputs": [
    {
     "name": "stdout",
     "output_type": "stream",
     "text": [
      "707 0 5\n",
      "-1 5 6\n",
      "700 6 7\n",
      "-1 7 24\n",
      "708 24 26\n",
      "-1 26 38\n",
      "702 38 49\n",
      "-1 49 60\n",
      "702 60 89\n",
      "-1 89 92\n",
      "702 92 109\n",
      "-1 109 198\n",
      "701 198 209\n",
      "-1 209 211\n",
      "701 211 216\n",
      "-1 216 220\n",
      "708 220 222\n",
      "-1 222 271\n",
      "706 271 300\n",
      "-1 300 485\n",
      "703 485 496\n",
      "-1 496 808\n",
      "704 808 828\n",
      "-1 828 946\n"
     ]
    }
   ],
   "source": [
    "import pandas as pd\n",
    "from os import listdir\n",
    "from os.path import isfile, join\n",
    "\n",
    "DATA_PATH = 'data/simplified/'\n",
    "\n",
    "class FeatureSequence():\n",
    "    \n",
    "    def __init__(self, feature_num, start_loc, end_loc):\n",
    "        self.feature_num = feature_num\n",
    "        self.start_loc = start_loc\n",
    "        self.end_loc = end_loc\n",
    "\n",
    "class Sample():\n",
    "    \n",
    "    def __init__(self, tokens, labels, case_num, pn_num):\n",
    "        self.tokens = tokens\n",
    "        self.labels = labels\n",
    "        self.case_num = case_num\n",
    "        self.pn_num = pn_num\n",
    "        self.feature_sequences = []\n",
    "        \n",
    "        prev_label = labels[0]\n",
    "        start_loc = 0\n",
    "        end_loc = 0\n",
    "        for i, label in enumerate(labels):\n",
    "            if prev_label != label:\n",
    "                end_loc = i\n",
    "                self.feature_sequences.append(FeatureSequence(prev_label, start_loc, end_loc))\n",
    "                prev_label = label\n",
    "                start_loc = i\n",
    "        end_loc = i\n",
    "        self.feature_sequences.append(FeatureSequence(prev_label, start_loc, end_loc))\n",
    "                \n",
    "        \n",
    "\n",
    "    \n",
    "def read_simplified_data(path):\n",
    "    \n",
    "    data_files = [f for f in listdir(path) if isfile(join(path, f))]\n",
    "    samples = []\n",
    "    for data_file in data_files:\n",
    "        case_num, pn_num = (int(i) for i in data_file[:-4].split('_'))\n",
    "        df = pd.read_csv(path + data_file)  \n",
    "        tokens = df.word.to_list()\n",
    "        labels = df.label.to_list()\n",
    "        samples.append(Sample(tokens, labels, case_num, pn_num))\n",
    "        \n",
    "    return samples\n",
    "\n",
    "samples = read_simplified_data(DATA_PATH)\n",
    "\n",
    "for seq in samples[0].feature_sequences:\n",
    "    print(seq.feature_num, seq.start_loc, seq.end_loc)"
   ]
  },
  {
   "cell_type": "code",
   "execution_count": 22,
   "id": "309b2a00-310b-4287-bb4d-7fad3e1dad97",
   "metadata": {},
   "outputs": [
    {
     "data": {
      "text/plain": [
       "'The speedy brown fox leapt over the lazy dog'"
      ]
     },
     "execution_count": 22,
     "metadata": {},
     "output_type": "execute_result"
    }
   ],
   "source": [
    "import nlpaug.augmenter.word as naw\n",
    "\n",
    "text = 'The quick brown fox jumped over the lazy dog'\n",
    "back_translation_aug = naw.BackTranslationAug(\n",
    "    from_model_name='facebook/wmt19-en-de', \n",
    "    to_model_name='facebook/wmt19-de-en'\n",
    ")\n",
    "back_translation_aug.augment(text)"
   ]
  },
  {
   "cell_type": "code",
   "execution_count": null,
   "id": "56566f77-98cd-4467-910b-24cb67fcc36c",
   "metadata": {},
   "outputs": [],
   "source": []
  }
 ],
 "metadata": {
  "kernelspec": {
   "display_name": "Python 3 (ipykernel)",
   "language": "python",
   "name": "python3"
  },
  "language_info": {
   "codemirror_mode": {
    "name": "ipython",
    "version": 3
   },
   "file_extension": ".py",
   "mimetype": "text/x-python",
   "name": "python",
   "nbconvert_exporter": "python",
   "pygments_lexer": "ipython3",
   "version": "3.9.12"
  }
 },
 "nbformat": 4,
 "nbformat_minor": 5
}
